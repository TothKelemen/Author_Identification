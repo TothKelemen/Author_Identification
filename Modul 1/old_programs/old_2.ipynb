{
 "cells": [
  {
   "cell_type": "code",
   "execution_count": 1,
   "id": "c756e8d1",
   "metadata": {},
   "outputs": [],
   "source": [
    "%%capture\n",
    "!pip install pandas_read_xml"
   ]
  },
  {
   "cell_type": "code",
   "execution_count": 2,
   "id": "57a06120",
   "metadata": {},
   "outputs": [
    {
     "name": "stdout",
     "output_type": "stream",
     "text": [
      "Requirement already satisfied: pip in d:\\py\\lib\\site-packages (23.2.1)\n",
      "Note: you may need to restart the kernel to use updated packages.\n"
     ]
    }
   ],
   "source": [
    "pip install --upgrade pip"
   ]
  },
  {
   "cell_type": "code",
   "execution_count": 3,
   "id": "09d4464c",
   "metadata": {},
   "outputs": [
    {
     "name": "stdout",
     "output_type": "stream",
     "text": [
      "Requirement already satisfied: upgrade-pip in d:\\py\\lib\\site-packages (0.1.4)\n"
     ]
    }
   ],
   "source": [
    "!pip3 install upgrade-pip"
   ]
  },
  {
   "cell_type": "code",
   "execution_count": 4,
   "id": "d780361d",
   "metadata": {},
   "outputs": [],
   "source": [
    "import pandas as pd"
   ]
  },
  {
   "cell_type": "code",
   "execution_count": 19,
   "id": "4f49f033",
   "metadata": {},
   "outputs": [],
   "source": [
    "df0 = pd.read_xml(\"D:\\Iskolai\\Tananyagok\\Szakdolgozat\\Bsc\\Versek\\Ady_00588\\Ady_00588_0006.xml\", xpath=\"//ns:titleStmt/ns:author/ns:persName\", namespaces={\"ns\":\"http://www.tei-c.org/ns/1.0\"})\n",
    "#df0"
   ]
  },
  {
   "cell_type": "code",
   "execution_count": 45,
   "id": "aff3be0f",
   "metadata": {
    "scrolled": false
   },
   "outputs": [],
   "source": [
    "df1 = pd.read_xml(\"D:\\Iskolai\\Tananyagok\\Szakdolgozat\\Bsc\\Versek\\Ady_00588\\Ady_00588_0006.xml\", xpath=\"//div\")\n",
    "#df1"
   ]
  },
  {
   "cell_type": "code",
   "execution_count": 7,
   "id": "b739f04b",
   "metadata": {},
   "outputs": [
    {
     "data": {
      "text/html": [
       "<div>\n",
       "<style scoped>\n",
       "    .dataframe tbody tr th:only-of-type {\n",
       "        vertical-align: middle;\n",
       "    }\n",
       "\n",
       "    .dataframe tbody tr th {\n",
       "        vertical-align: top;\n",
       "    }\n",
       "\n",
       "    .dataframe thead th {\n",
       "        text-align: right;\n",
       "    }\n",
       "</style>\n",
       "<table border=\"1\" class=\"dataframe\">\n",
       "  <thead>\n",
       "    <tr style=\"text-align: right;\">\n",
       "      <th></th>\n",
       "      <th>id</th>\n",
       "      <th>lg_numLine</th>\n",
       "      <th>lg_numWord</th>\n",
       "      <th>lg_numSyll</th>\n",
       "      <th>lg_numShortSyll</th>\n",
       "      <th>lg_numLongSyll</th>\n",
       "      <th>rhyme</th>\n",
       "      <th>lg_syllPattern</th>\n",
       "      <th>l</th>\n",
       "    </tr>\n",
       "  </thead>\n",
       "  <tbody>\n",
       "    <tr>\n",
       "      <th>0</th>\n",
       "      <td>lg1</td>\n",
       "      <td>4</td>\n",
       "      <td>20</td>\n",
       "      <td>38</td>\n",
       "      <td>20</td>\n",
       "      <td>18</td>\n",
       "      <td>abcb</td>\n",
       "      <td>9-10-8-11</td>\n",
       "      <td>NaN</td>\n",
       "    </tr>\n",
       "    <tr>\n",
       "      <th>1</th>\n",
       "      <td>lg2</td>\n",
       "      <td>4</td>\n",
       "      <td>18</td>\n",
       "      <td>38</td>\n",
       "      <td>19</td>\n",
       "      <td>19</td>\n",
       "      <td>abcb</td>\n",
       "      <td>10-10-9-9</td>\n",
       "      <td>NaN</td>\n",
       "    </tr>\n",
       "    <tr>\n",
       "      <th>2</th>\n",
       "      <td>lg3</td>\n",
       "      <td>4</td>\n",
       "      <td>20</td>\n",
       "      <td>40</td>\n",
       "      <td>24</td>\n",
       "      <td>16</td>\n",
       "      <td>abcb</td>\n",
       "      <td>10-10-10-10</td>\n",
       "      <td>NaN</td>\n",
       "    </tr>\n",
       "    <tr>\n",
       "      <th>3</th>\n",
       "      <td>lg4</td>\n",
       "      <td>4</td>\n",
       "      <td>24</td>\n",
       "      <td>41</td>\n",
       "      <td>16</td>\n",
       "      <td>25</td>\n",
       "      <td>abcb</td>\n",
       "      <td>11-10-10-10</td>\n",
       "      <td>NaN</td>\n",
       "    </tr>\n",
       "  </tbody>\n",
       "</table>\n",
       "</div>"
      ],
      "text/plain": [
       "    id  lg_numLine  lg_numWord  lg_numSyll  lg_numShortSyll  lg_numLongSyll  \\\n",
       "0  lg1           4          20          38               20              18   \n",
       "1  lg2           4          18          38               19              19   \n",
       "2  lg3           4          20          40               24              16   \n",
       "3  lg4           4          24          41               16              25   \n",
       "\n",
       "  rhyme lg_syllPattern   l  \n",
       "0  abcb      9-10-8-11 NaN  \n",
       "1  abcb      10-10-9-9 NaN  \n",
       "2  abcb    10-10-10-10 NaN  \n",
       "3  abcb    11-10-10-10 NaN  "
      ]
     },
     "execution_count": 7,
     "metadata": {},
     "output_type": "execute_result"
    }
   ],
   "source": [
    "df2 = pd.read_xml(\"D:\\Iskolai\\Tananyagok\\Szakdolgozat\\Bsc\\Versek\\Ady_00588\\Ady_00588_0006.xml\", xpath=\"//lg\")\n",
    "df2"
   ]
  },
  {
   "cell_type": "code",
   "execution_count": 49,
   "id": "3e216982",
   "metadata": {},
   "outputs": [],
   "source": [
    "df3 = pd.read_xml(\"D:\\Iskolai\\Tananyagok\\Szakdolgozat\\Bsc\\Versek\\Ady_00588\\Ady_00588_0006.xml\", xpath=\"//l\")\n",
    "#df3"
   ]
  },
  {
   "cell_type": "code",
   "execution_count": 48,
   "id": "900679ea",
   "metadata": {},
   "outputs": [],
   "source": [
    "df4 = pd.read_xml(\"D:\\Iskolai\\Tananyagok\\Szakdolgozat\\Bsc\\Versek\\Ady_00588\\Ady_00588_0006.xml\", xpath=\"//w\")\n",
    "#df4"
   ]
  },
  {
   "cell_type": "code",
   "execution_count": 47,
   "id": "51ac3819",
   "metadata": {},
   "outputs": [],
   "source": [
    "df5 = pd.read_xml(\"D:\\Iskolai\\Tananyagok\\Szakdolgozat\\Bsc\\Versek\\Ady_00588\\Ady_00588_0006.xml\", xpath=\"//rhymePair\")\n",
    "#df5"
   ]
  },
  {
   "cell_type": "code",
   "execution_count": 46,
   "id": "09f1649a",
   "metadata": {},
   "outputs": [],
   "source": [
    "df6 = pd.read_xml(\"D:\\Iskolai\\Tananyagok\\Szakdolgozat\\Bsc\\Versek\\Ady_00588\\Ady_00588_0006.xml\", xpath=\"//alliteration\")\n",
    "#df6"
   ]
  },
  {
   "cell_type": "code",
   "execution_count": 44,
   "id": "ce88a988",
   "metadata": {},
   "outputs": [
    {
     "data": {
      "text/html": [
       "<div>\n",
       "<style scoped>\n",
       "    .dataframe tbody tr th:only-of-type {\n",
       "        vertical-align: middle;\n",
       "    }\n",
       "\n",
       "    .dataframe tbody tr th {\n",
       "        vertical-align: top;\n",
       "    }\n",
       "\n",
       "    .dataframe thead th {\n",
       "        text-align: right;\n",
       "    }\n",
       "</style>\n",
       "<table border=\"1\" class=\"dataframe\">\n",
       "  <thead>\n",
       "    <tr style=\"text-align: right;\">\n",
       "      <th></th>\n",
       "      <th>Author</th>\n",
       "      <th>Title</th>\n",
       "      <th>numStanza</th>\n",
       "      <th>numLine</th>\n",
       "      <th>numWord</th>\n",
       "      <th>numSyll</th>\n",
       "      <th>rateShortSyll</th>\n",
       "    </tr>\n",
       "  </thead>\n",
       "  <tbody>\n",
       "    <tr>\n",
       "      <th>0</th>\n",
       "      <td>Ady Endre</td>\n",
       "      <td>GÓG ÉS MAGÓG FIA VAGYOK ÉN...</td>\n",
       "      <td>4</td>\n",
       "      <td>16</td>\n",
       "      <td>82</td>\n",
       "      <td>157</td>\n",
       "      <td>0.503</td>\n",
       "    </tr>\n",
       "  </tbody>\n",
       "</table>\n",
       "</div>"
      ],
      "text/plain": [
       "      Author                          Title numStanza numLine numWord numSyll  \\\n",
       "0  Ady Endre  GÓG ÉS MAGÓG FIA VAGYOK ÉN...         4      16      82     157   \n",
       "\n",
       "  rateShortSyll  \n",
       "0         0.503  "
      ]
     },
     "execution_count": 44,
     "metadata": {},
     "output_type": "execute_result"
    }
   ],
   "source": [
    "column_names = ['Author', 'Title', 'numStanza', 'numLine', 'numWord', 'numSyll', 'rateShortSyll']\n",
    "df = pd.DataFrame(columns=column_names)\n",
    "df.loc[0, ['Author','Title','numStanza','numLine','numWord','numSyll','rateShortSyll']] = \n",
    "                                            {'Author': df0.iloc[0, 0] + ' ' + df0.iloc[0, 1],\n",
    "                                             'Title': df1.iloc[0, 9],\n",
    "                                             'numStanza': df1.iloc[0, 1],\n",
    "                                             'numLine': df1.iloc[0, 2],\n",
    "                                             'numWord': df1.iloc[0, 3],\n",
    "                                             'numSyll': df1.iloc[0, 4],\n",
    "                                             'rateShortSyll': round(df1.iloc[0, 5] / df1.iloc[0, 4],3)\n",
    "                                            }\n",
    "df"
   ]
  }
 ],
 "metadata": {
  "kernelspec": {
   "display_name": "Python 3 (ipykernel)",
   "language": "python",
   "name": "python3"
  },
  "language_info": {
   "codemirror_mode": {
    "name": "ipython",
    "version": 3
   },
   "file_extension": ".py",
   "mimetype": "text/x-python",
   "name": "python",
   "nbconvert_exporter": "python",
   "pygments_lexer": "ipython3",
   "version": "3.10.10"
  }
 },
 "nbformat": 4,
 "nbformat_minor": 5
}
