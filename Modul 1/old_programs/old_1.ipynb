{
 "cells": [
  {
   "cell_type": "code",
   "execution_count": 1,
   "id": "c756e8d1",
   "metadata": {},
   "outputs": [],
   "source": [
    "%%capture\n",
    "!pip install pandas_read_xml"
   ]
  },
  {
   "cell_type": "code",
   "execution_count": 2,
   "id": "57a06120",
   "metadata": {},
   "outputs": [
    {
     "name": "stdout",
     "output_type": "stream",
     "text": [
      "Requirement already satisfied: pip in d:\\py\\lib\\site-packages (23.2.1)\n",
      "Note: you may need to restart the kernel to use updated packages.\n"
     ]
    }
   ],
   "source": [
    "pip install --upgrade pip"
   ]
  },
  {
   "cell_type": "code",
   "execution_count": 3,
   "id": "09d4464c",
   "metadata": {},
   "outputs": [
    {
     "name": "stdout",
     "output_type": "stream",
     "text": [
      "Requirement already satisfied: upgrade-pip in d:\\py\\lib\\site-packages (0.1.4)\n"
     ]
    }
   ],
   "source": [
    "!pip3 install upgrade-pip"
   ]
  },
  {
   "cell_type": "code",
   "execution_count": 4,
   "id": "d780361d",
   "metadata": {},
   "outputs": [],
   "source": [
    "import pandas as pd"
   ]
  },
  {
   "cell_type": "code",
   "execution_count": 5,
   "id": "4f49f033",
   "metadata": {},
   "outputs": [],
   "source": [
    "def getAuthorName(poems_path):\n",
    "\n",
    "    df0 = pd.read_xml(poems_path, xpath=\"//ns:titleStmt/ns:author/ns:persName\", namespaces={\"ns\":\"http://www.tei-c.org/ns/1.0\"})\n",
    "\n",
    "    Author=df0.iloc[0, 0] + ' ' + df0.iloc[0, 1]\n",
    "    \n",
    "    return Author"
   ]
  },
  {
   "cell_type": "code",
   "execution_count": 6,
   "id": "aff3be0f",
   "metadata": {
    "scrolled": false
   },
   "outputs": [],
   "source": [
    "def getDiv(poems_path):\n",
    "\n",
    "    df1 = pd.read_xml(poems_path, xpath=\"//div\")\n",
    "\n",
    "    special_characters=['!',':',';','\"','-','.','?',',','(',')','[',']','»','«','ʼ']\n",
    "\n",
    "    Title=df1.iloc[0, 9]\n",
    "    numWordsTitle=len(Title.replace(f\"[{''.join(special_characters)}]\",'').split())\n",
    "    numStanza=df1.iloc[0, 1]\n",
    "    numLine=df1.iloc[0, 2]\n",
    "    numWord=df1.iloc[0, 3]\n",
    "    numSyll=df1.iloc[0, 4]\n",
    "    rateShortSyll=round(df1.iloc[0, 5] / df1.iloc[0, 4],3)\n",
    "    \n",
    "    divList=[Title,numWordsTitle,numStanza,numLine,numWord,numSyll,rateShortSyll]\n",
    "    \n",
    "    return divList"
   ]
  },
  {
   "cell_type": "code",
   "execution_count": 7,
   "id": "cbc80366",
   "metadata": {},
   "outputs": [],
   "source": [
    "def getStats(df,columnIndex):\n",
    "    \n",
    "    meanVar=df.iloc[:,columnIndex].mean()\n",
    "    maxVar=df.iloc[:,columnIndex].max()\n",
    "    minVar=df.iloc[:,columnIndex].min()\n",
    "    medVar=df.iloc[:,columnIndex].median()\n",
    "    q1Var=df.iloc[:,columnIndex].quantile(0.25)\n",
    "    q3Var=df.iloc[:,columnIndex].quantile(0.75)\n",
    "    vVar=round(df.iloc[:,columnIndex].std()/meanVar,3)\n",
    "    \n",
    "    statList=[meanVar,maxVar,minVar,medVar,q1Var,q3Var,vVar]\n",
    "    \n",
    "    return statList"
   ]
  },
  {
   "cell_type": "code",
   "execution_count": 8,
   "id": "b739f04b",
   "metadata": {},
   "outputs": [],
   "source": [
    "def getLg(poems_path):\n",
    "\n",
    "    df2 = pd.read_xml(poems_path, xpath=\"//lg\")\n",
    "\n",
    "    meanNL=df2.iloc[:, 1].mean()\n",
    "    maxNL=df2.iloc[:, 1].max()\n",
    "    minNL=df2.iloc[:, 1].min()\n",
    "    medNL=df2.iloc[:, 1].median()\n",
    "    q1NL=df2.iloc[:, 1].quantile(0.25)\n",
    "    q3NL=df2.iloc[:, 1].quantile(0.75)\n",
    "    vNL=round(df2.iloc[:, 1].std()/meanNL,3)\n",
    "\n",
    "    meanNW=df2.iloc[:, 2].mean()\n",
    "    maxNW=df2.iloc[:, 2].max()\n",
    "    minNW=df2.iloc[:, 2].min()\n",
    "    medNW=df2.iloc[:, 2].median()\n",
    "    q1NW=df2.iloc[:, 2].quantile(0.25)\n",
    "    q3NW=df2.iloc[:, 2].quantile(0.75)\n",
    "    vNW=round(df2.iloc[:, 2].std()/meanNW,3)\n",
    "\n",
    "    meanNS=df2.iloc[:, 3].mean()\n",
    "    maxNS=df2.iloc[:, 3].max()\n",
    "    minNS=df2.iloc[:, 3].min()\n",
    "    medNS=df2.iloc[:, 3].median()\n",
    "    q1NS=df2.iloc[:, 3].quantile(0.25)\n",
    "    q3NS=df2.iloc[:, 3].quantile(0.75)\n",
    "    vNS=round(df2.iloc[:, 3].std()/meanNS,3)\n",
    "\n",
    "    meanNshortS=df2.iloc[:, 4].mean()\n",
    "    maxNshortS=df2.iloc[:, 4].max()\n",
    "    minNshortS=df2.iloc[:, 4].min()\n",
    "    medNshortS=df2.iloc[:, 4].median()\n",
    "    q1NshortS=df2.iloc[:, 4].quantile(0.25)\n",
    "    q3NshortS=df2.iloc[:, 4].quantile(0.75)\n",
    "    vNshortS=round(df2.iloc[:, 4].std()/meanNshortS,3)\n",
    "\n",
    "    meanNlongS=df2.iloc[:, 5].mean()\n",
    "    maxNlongS=df2.iloc[:, 5].max()\n",
    "    minNlongS=df2.iloc[:, 5].min()\n",
    "    medNlongS=df2.iloc[:, 5].median()\n",
    "    q1NlongS=df2.iloc[:, 5].quantile(0.25)\n",
    "    q3NlongS=df2.iloc[:, 5].quantile(0.75)\n",
    "    vNlongS=round(df2.iloc[:, 5].std()/meanNlongS,3)\n",
    "\n",
    "    abcb=(df2.iloc[:, 6]=='abcb').sum()\n",
    "    aba=(df2.iloc[:, 6]=='aba').sum()\n",
    "    abcdb=(df2.iloc[:, 6]=='abcdb').sum()\n",
    "    abca=(df2.iloc[:, 6]=='abca').sum()\n",
    "    abb=(df2.iloc[:, 6]=='abb').sum()\n",
    "    aaaa=(df2.iloc[:, 6]=='aaaa').sum()\n",
    "    \n",
    "    lgDictionary\n",
    "    \n",
    "    return lgDictionary"
   ]
  },
  {
   "cell_type": "code",
   "execution_count": 9,
   "id": "3e216982",
   "metadata": {},
   "outputs": [],
   "source": [
    "def getL(poems_path):\n",
    "    \n",
    "    df3 = pd.read_xml(poems_path, xpath=\"//l\")\n",
    "\n",
    "    LmeanNW=df3.iloc[:, 1].mean()\n",
    "    LmaxNW=df3.iloc[:, 1].max()\n",
    "    LminNW=df3.iloc[:, 1].min()\n",
    "    LmedNW=df3.iloc[:, 1].median()\n",
    "    Lq1NW=df3.iloc[:, 1].quantile(0.25)\n",
    "    Lq3NW=df3.iloc[:, 1].quantile(0.75)\n",
    "    LvNW=(df3.iloc[:, 1].std()/LmeanNW,3)\n",
    "\n",
    "    LmeanNS=df3.iloc[:, 2].mean()\n",
    "    LmaxNS=df3.iloc[:, 2].max()\n",
    "    LminNS=df3.iloc[:, 2].min()\n",
    "    LmedNS=df3.iloc[:, 2].median()\n",
    "    Lq1NS=df3.iloc[:, 2].quantile(0.25)\n",
    "    Lq3NS=df3.iloc[:, 2].quantile(0.75)\n",
    "    LvNS=round(df3.iloc[:, 2].std()/LmeanNS,3)\n",
    "\n",
    "    LmeanNshortS=df3.iloc[:, 3].mean()\n",
    "    LmaxNshortS=df3.iloc[:, 3].max()\n",
    "    LminNshortS=df3.iloc[:, 3].min()\n",
    "    LmedNshortS=df3.iloc[:, 3].median()\n",
    "    Lq1NshortS=df3.iloc[:, 3].quantile(0.25)\n",
    "    Lq3NshortS=df3.iloc[:, 3].quantile(0.75)\n",
    "    LvNshortS=round(df3.iloc[:, 3].std()/LmeanNshortS,3)\n",
    "\n",
    "    LmeanNlongS=df3.iloc[:, 4].mean()\n",
    "    LmaxNlongS=df3.iloc[:, 4].max()\n",
    "    LminNlongS=df3.iloc[:, 4].min()\n",
    "    LmedNlongS=df3.iloc[:, 4].median()\n",
    "    Lq1NlongS=df3.iloc[:, 4].quantile(0.25)\n",
    "    Lq3NlongS=df3.iloc[:, 4].quantile(0.75)\n",
    "    LvNlongS=round(df3.iloc[:, 4].std()/df3.iloc[:, 4].mean(),3)\n",
    "    \n",
    "    lDictionary\n",
    "    \n",
    "    return lDictionary"
   ]
  },
  {
   "cell_type": "code",
   "execution_count": 10,
   "id": "900679ea",
   "metadata": {},
   "outputs": [],
   "source": [
    "def getW(poems_path):\n",
    "    \n",
    "    df4 = pd.read_xml(poems_path, xpath=\"//w\")\n",
    "\n",
    "    PROPN=(df4.iloc[:, 2]=='PROPN').sum()\n",
    "    NOUN=(df4.iloc[:, 2]=='NOUN').sum()\n",
    "    ADJ=(df4.iloc[:, 2]=='ADJ').sum()\n",
    "    NUM=(df4.iloc[:, 2]=='NUM').sum()\n",
    "    PRON=(df4.iloc[:, 2]=='PRON').sum()\n",
    "    VERB=(df4.iloc[:, 2]=='VERB').sum()\n",
    "    ADV=(df4.iloc[:, 2]=='ADV').sum()\n",
    "    CONJ=(df4.iloc[:, 2]=='CONJ').sum()\n",
    "    SCONJ=(df4.iloc[:, 2]=='SCONJ').sum()\n",
    "    DET=(df4.iloc[:, 2]=='DET').sum()\n",
    "    ADP=(df4.iloc[:, 2]=='ADP').sum()\n",
    "    INTJ=(df4.iloc[:, 2]=='INTJ').sum()\n",
    "    PART=(df4.iloc[:, 2]=='PART').sum()\n",
    "\n",
    "    ratePROPN_NOUN=round((PROPN+NOUN)/numWord,3)\n",
    "    rateADJ=round(ADJ/numWord,3)\n",
    "    rateNOUNs=round((PROPN+NOUN+ADJ+NUM+PRON)/numWord,3)\n",
    "    rateVERB=round(VERB/numWord,3)\n",
    "    rateADV=round(ADV/numWord,3)\n",
    "\n",
    "    ratePhonTlow=round((df4.iloc[:, 5]=='low').sum()/numWord,3)\n",
    "    ratePhonThigh=round((df4.iloc[:, 5]=='high').sum()/numWord,3)\n",
    "    ratePhonTmixed=round((df4.iloc[:, 5]=='mixed').sum()/numWord,3)\n",
    "\n",
    "    df4['lenWord']=df4.iloc[:, 6].apply(len)\n",
    "\n",
    "    meanLenWord=df4.iloc[:, 8].mean()\n",
    "    maxLenWord=df4.iloc[:, 8].max()\n",
    "    minLenWord=df4.iloc[:, 8].min()\n",
    "    medLenWord=df4.iloc[:, 8].median()\n",
    "    q1LenWord=df4.iloc[:, 8].quantile(0.25)\n",
    "    q3LenWord=df4.iloc[:, 8].quantile(0.75)\n",
    "    vLenWord=round(df4.iloc[:, 8].std()/meanLenWord,3)\n",
    "\n",
    "    sumLenWord=df4.iloc[:, 8].sum()\n",
    "\n",
    "    rateConsonant=round(df4.iloc[:, 6].str.count('c').sum()/sumLenWord,3)\n",
    "    rateShortFFV=round(df4.iloc[:, 6].str.count('f').sum()/sumLenWord,3)\n",
    "    rateLongFFV=round(df4.iloc[:, 6].str.count('F').sum()/sumLenWord,3)\n",
    "    rateShortBFV=round(df4.iloc[:, 6].str.count('b').sum()/sumLenWord,3)\n",
    "    rateLongBFV=round(df4.iloc[:, 6].str.count('B').sum()/sumLenWord,3)\n",
    "    \n",
    "    wDictionary\n",
    "    \n",
    "    return wDictionary"
   ]
  },
  {
   "cell_type": "code",
   "execution_count": 11,
   "id": "0b2d84a5",
   "metadata": {},
   "outputs": [],
   "source": [
    "def getPC(poems_path):\n",
    "    \n",
    "    df5 = pd.read_xml(poems_path, xpath=\"//pc\")\n",
    "\n",
    "    PUNCT=(df5.iloc[:, 1]=='PUNCT').sum()\n",
    "\n",
    "    return PUNCT"
   ]
  },
  {
   "cell_type": "code",
   "execution_count": 12,
   "id": "51ac3819",
   "metadata": {},
   "outputs": [],
   "source": [
    "def getRhymePair(poems_path):\n",
    "\n",
    "    df6 = pd.read_xml(poems_path, xpath=\"//rhymePair\")\n",
    "\n",
    "    numRhymePairs=df6.iloc[:, 2].count()\n",
    "\n",
    "    return numRhymeParis"
   ]
  },
  {
   "cell_type": "code",
   "execution_count": 13,
   "id": "09f1649a",
   "metadata": {},
   "outputs": [],
   "source": [
    "def getAlliteration(poems_path):\n",
    "\n",
    "    df7 = pd.read_xml(poems_path, xpath=\"//alliteration\")\n",
    "\n",
    "    numAll=df7.iloc[:, 1].count()\n",
    "\n",
    "    df7['lenAll']=df7.iloc[:, 1].apply(len)\n",
    "\n",
    "    rateClearAll=round((df7.iloc[:, 1].str.count('a')==df7.iloc[:, 6]).sum()/numAll,3)\n",
    "\n",
    "    meanAll=df7.iloc[:, 6].mean()\n",
    "    maxAll=df7.iloc[:, 6].max()\n",
    "    minAll=df7.iloc[:, 6].min()\n",
    "    medAll=df7.iloc[:, 6].median()\n",
    "    q1All=df7.iloc[:, 6].quantile(0.25)\n",
    "    q3All=df7.iloc[:, 6].quantile(0.75)\n",
    "    vAll=round(df7.iloc[:, 6].std()/meanAll,3)\n",
    "\n",
    "    AllList=[]\n",
    "    \n",
    "    return AllList"
   ]
  },
  {
   "cell_type": "code",
   "execution_count": 14,
   "id": "963560ed",
   "metadata": {},
   "outputs": [],
   "source": [
    "poems_path=\"D:\\Iskolai\\Tananyagok\\Szakdolgozat\\Bsc\\Versek\\Ady_00588\\Ady_00588_0006.xml\""
   ]
  },
  {
   "cell_type": "code",
   "execution_count": 15,
   "id": "24d6bdfb",
   "metadata": {},
   "outputs": [],
   "source": [
    "Author=getAuthorName(poems_path)"
   ]
  },
  {
   "cell_type": "code",
   "execution_count": 16,
   "id": "ce88a988",
   "metadata": {},
   "outputs": [
    {
     "ename": "NameError",
     "evalue": "name 'Title' is not defined",
     "output_type": "error",
     "traceback": [
      "\u001b[1;31m---------------------------------------------------------------------------\u001b[0m",
      "\u001b[1;31mNameError\u001b[0m                                 Traceback (most recent call last)",
      "Cell \u001b[1;32mIn[16], line 27\u001b[0m\n\u001b[0;32m      1\u001b[0m column_names \u001b[38;5;241m=\u001b[39m [\u001b[38;5;124m'\u001b[39m\u001b[38;5;124mAuthor\u001b[39m\u001b[38;5;124m'\u001b[39m, \u001b[38;5;124m'\u001b[39m\u001b[38;5;124mTitle\u001b[39m\u001b[38;5;124m'\u001b[39m, \u001b[38;5;124m'\u001b[39m\u001b[38;5;124mnumWordsTitle\u001b[39m\u001b[38;5;124m'\u001b[39m, \u001b[38;5;124m'\u001b[39m\u001b[38;5;124mnumStanza\u001b[39m\u001b[38;5;124m'\u001b[39m, \u001b[38;5;124m'\u001b[39m\u001b[38;5;124mnumLine\u001b[39m\u001b[38;5;124m'\u001b[39m, \u001b[38;5;124m'\u001b[39m\u001b[38;5;124mnumWord\u001b[39m\u001b[38;5;124m'\u001b[39m, \u001b[38;5;124m'\u001b[39m\u001b[38;5;124mnumSyll\u001b[39m\u001b[38;5;124m'\u001b[39m, \u001b[38;5;124m'\u001b[39m\u001b[38;5;124mrateShortSyll\u001b[39m\u001b[38;5;124m'\u001b[39m,\n\u001b[0;32m      2\u001b[0m                 \u001b[38;5;124m'\u001b[39m\u001b[38;5;124mmeanNL\u001b[39m\u001b[38;5;124m'\u001b[39m, \u001b[38;5;124m'\u001b[39m\u001b[38;5;124mmaxNL\u001b[39m\u001b[38;5;124m'\u001b[39m, \u001b[38;5;124m'\u001b[39m\u001b[38;5;124mminNL\u001b[39m\u001b[38;5;124m'\u001b[39m, \u001b[38;5;124m'\u001b[39m\u001b[38;5;124mmedNL\u001b[39m\u001b[38;5;124m'\u001b[39m, \u001b[38;5;124m'\u001b[39m\u001b[38;5;124mq1NL\u001b[39m\u001b[38;5;124m'\u001b[39m, \u001b[38;5;124m'\u001b[39m\u001b[38;5;124mq3NL\u001b[39m\u001b[38;5;124m'\u001b[39m, \u001b[38;5;124m'\u001b[39m\u001b[38;5;124mvNL\u001b[39m\u001b[38;5;124m'\u001b[39m,\n\u001b[0;32m      3\u001b[0m                 \u001b[38;5;124m'\u001b[39m\u001b[38;5;124mmeanNW\u001b[39m\u001b[38;5;124m'\u001b[39m, \u001b[38;5;124m'\u001b[39m\u001b[38;5;124mmaxNW\u001b[39m\u001b[38;5;124m'\u001b[39m, \u001b[38;5;124m'\u001b[39m\u001b[38;5;124mminNW\u001b[39m\u001b[38;5;124m'\u001b[39m, \u001b[38;5;124m'\u001b[39m\u001b[38;5;124mmedNW\u001b[39m\u001b[38;5;124m'\u001b[39m, \u001b[38;5;124m'\u001b[39m\u001b[38;5;124mq1NW\u001b[39m\u001b[38;5;124m'\u001b[39m, \u001b[38;5;124m'\u001b[39m\u001b[38;5;124mq3NW\u001b[39m\u001b[38;5;124m'\u001b[39m, \u001b[38;5;124m'\u001b[39m\u001b[38;5;124mvNW\u001b[39m\u001b[38;5;124m'\u001b[39m,\n\u001b[1;32m   (...)\u001b[0m\n\u001b[0;32m     20\u001b[0m                 \u001b[38;5;124m'\u001b[39m\u001b[38;5;124mmeanAll\u001b[39m\u001b[38;5;124m'\u001b[39m, \u001b[38;5;124m'\u001b[39m\u001b[38;5;124mmaxAll\u001b[39m\u001b[38;5;124m'\u001b[39m, \u001b[38;5;124m'\u001b[39m\u001b[38;5;124mminAll\u001b[39m\u001b[38;5;124m'\u001b[39m, \u001b[38;5;124m'\u001b[39m\u001b[38;5;124mmedAll\u001b[39m\u001b[38;5;124m'\u001b[39m, \u001b[38;5;124m'\u001b[39m\u001b[38;5;124mq1All\u001b[39m\u001b[38;5;124m'\u001b[39m, \u001b[38;5;124m'\u001b[39m\u001b[38;5;124mq3All\u001b[39m\u001b[38;5;124m'\u001b[39m, \u001b[38;5;124m'\u001b[39m\u001b[38;5;124mvAll\u001b[39m\u001b[38;5;124m'\u001b[39m\n\u001b[0;32m     21\u001b[0m                ]\n\u001b[0;32m     23\u001b[0m df \u001b[38;5;241m=\u001b[39m pd\u001b[38;5;241m.\u001b[39mDataFrame(columns\u001b[38;5;241m=\u001b[39mcolumn_names)\n\u001b[0;32m     25\u001b[0m df\u001b[38;5;241m.\u001b[39mloc[\u001b[38;5;241m0\u001b[39m, column_names] \u001b[38;5;241m=\u001b[39m {\n\u001b[0;32m     26\u001b[0m     \u001b[38;5;124m'\u001b[39m\u001b[38;5;124mAuthor\u001b[39m\u001b[38;5;124m'\u001b[39m: Author,\n\u001b[1;32m---> 27\u001b[0m     \u001b[38;5;124m'\u001b[39m\u001b[38;5;124mTitle\u001b[39m\u001b[38;5;124m'\u001b[39m: \u001b[43mTitle\u001b[49m, \u001b[38;5;124m'\u001b[39m\u001b[38;5;124mnumWordsTitle\u001b[39m\u001b[38;5;124m'\u001b[39m: numWordsTitle, \u001b[38;5;124m'\u001b[39m\u001b[38;5;124mnumStanza\u001b[39m\u001b[38;5;124m'\u001b[39m: numStanza, \u001b[38;5;124m'\u001b[39m\u001b[38;5;124mnumLine\u001b[39m\u001b[38;5;124m'\u001b[39m: numLine, \u001b[38;5;124m'\u001b[39m\u001b[38;5;124mnumWord\u001b[39m\u001b[38;5;124m'\u001b[39m: numWord, \u001b[38;5;124m'\u001b[39m\u001b[38;5;124mnumSyll\u001b[39m\u001b[38;5;124m'\u001b[39m: numSyll, \u001b[38;5;124m'\u001b[39m\u001b[38;5;124mrateShortSyll\u001b[39m\u001b[38;5;124m'\u001b[39m: rateShortSyll,\n\u001b[0;32m     28\u001b[0m     \u001b[38;5;124m'\u001b[39m\u001b[38;5;124mmeanNL\u001b[39m\u001b[38;5;124m'\u001b[39m: meanNL, \u001b[38;5;124m'\u001b[39m\u001b[38;5;124mmaxNL\u001b[39m\u001b[38;5;124m'\u001b[39m: maxNL, \u001b[38;5;124m'\u001b[39m\u001b[38;5;124mminNL\u001b[39m\u001b[38;5;124m'\u001b[39m: minNL, \u001b[38;5;124m'\u001b[39m\u001b[38;5;124mmedNL\u001b[39m\u001b[38;5;124m'\u001b[39m: medNL, \u001b[38;5;124m'\u001b[39m\u001b[38;5;124mq1NL\u001b[39m\u001b[38;5;124m'\u001b[39m: q1NL, \u001b[38;5;124m'\u001b[39m\u001b[38;5;124mq3NL\u001b[39m\u001b[38;5;124m'\u001b[39m: q3NL, \u001b[38;5;124m'\u001b[39m\u001b[38;5;124mvNL\u001b[39m\u001b[38;5;124m'\u001b[39m: vNL,\n\u001b[0;32m     29\u001b[0m     \u001b[38;5;124m'\u001b[39m\u001b[38;5;124mmeanNW\u001b[39m\u001b[38;5;124m'\u001b[39m: meanNW, \u001b[38;5;124m'\u001b[39m\u001b[38;5;124mmaxNW\u001b[39m\u001b[38;5;124m'\u001b[39m: maxNW, \u001b[38;5;124m'\u001b[39m\u001b[38;5;124mminNW\u001b[39m\u001b[38;5;124m'\u001b[39m: minNW, \u001b[38;5;124m'\u001b[39m\u001b[38;5;124mmedNW\u001b[39m\u001b[38;5;124m'\u001b[39m: medNW, \u001b[38;5;124m'\u001b[39m\u001b[38;5;124mq1NW\u001b[39m\u001b[38;5;124m'\u001b[39m: q1NW, \u001b[38;5;124m'\u001b[39m\u001b[38;5;124mq3NW\u001b[39m\u001b[38;5;124m'\u001b[39m: q3NW, \u001b[38;5;124m'\u001b[39m\u001b[38;5;124mvNW\u001b[39m\u001b[38;5;124m'\u001b[39m: vNW,\n\u001b[0;32m     30\u001b[0m     \u001b[38;5;124m'\u001b[39m\u001b[38;5;124mmeanNS\u001b[39m\u001b[38;5;124m'\u001b[39m: meanNS, \u001b[38;5;124m'\u001b[39m\u001b[38;5;124mmaxNS\u001b[39m\u001b[38;5;124m'\u001b[39m: maxNS, \u001b[38;5;124m'\u001b[39m\u001b[38;5;124mminNS\u001b[39m\u001b[38;5;124m'\u001b[39m: minNS, \u001b[38;5;124m'\u001b[39m\u001b[38;5;124mmedNS\u001b[39m\u001b[38;5;124m'\u001b[39m: medNS, \u001b[38;5;124m'\u001b[39m\u001b[38;5;124mq1NS\u001b[39m\u001b[38;5;124m'\u001b[39m: q1NS, \u001b[38;5;124m'\u001b[39m\u001b[38;5;124mq3NS\u001b[39m\u001b[38;5;124m'\u001b[39m: q3NS, \u001b[38;5;124m'\u001b[39m\u001b[38;5;124mvNS\u001b[39m\u001b[38;5;124m'\u001b[39m: vNS,\n\u001b[0;32m     31\u001b[0m     \u001b[38;5;124m'\u001b[39m\u001b[38;5;124mmeanNshortS\u001b[39m\u001b[38;5;124m'\u001b[39m: meanNshortS, \u001b[38;5;124m'\u001b[39m\u001b[38;5;124mmaxNshortS\u001b[39m\u001b[38;5;124m'\u001b[39m: maxNshortS, \u001b[38;5;124m'\u001b[39m\u001b[38;5;124mminNshortS\u001b[39m\u001b[38;5;124m'\u001b[39m: minNshortS, \u001b[38;5;124m'\u001b[39m\u001b[38;5;124mmedNshortS\u001b[39m\u001b[38;5;124m'\u001b[39m: medNshortS, \u001b[38;5;124m'\u001b[39m\u001b[38;5;124mq1NshortS\u001b[39m\u001b[38;5;124m'\u001b[39m: q1NshortS, \u001b[38;5;124m'\u001b[39m\u001b[38;5;124mq3NshortS\u001b[39m\u001b[38;5;124m'\u001b[39m: q3NshortS, \u001b[38;5;124m'\u001b[39m\u001b[38;5;124mvNshortS\u001b[39m\u001b[38;5;124m'\u001b[39m: vNshortS,\n\u001b[0;32m     32\u001b[0m     \u001b[38;5;124m'\u001b[39m\u001b[38;5;124mmeanNlongS\u001b[39m\u001b[38;5;124m'\u001b[39m: meanNlongS, \u001b[38;5;124m'\u001b[39m\u001b[38;5;124mmaxNlongS\u001b[39m\u001b[38;5;124m'\u001b[39m: maxNlongS, \u001b[38;5;124m'\u001b[39m\u001b[38;5;124mminNlongS\u001b[39m\u001b[38;5;124m'\u001b[39m: minNlongS, \u001b[38;5;124m'\u001b[39m\u001b[38;5;124mmedNlongS\u001b[39m\u001b[38;5;124m'\u001b[39m: medNlongS, \u001b[38;5;124m'\u001b[39m\u001b[38;5;124mq1NlongS\u001b[39m\u001b[38;5;124m'\u001b[39m: q1NlongS, \u001b[38;5;124m'\u001b[39m\u001b[38;5;124mq3NlongS\u001b[39m\u001b[38;5;124m'\u001b[39m: q3NlongS, \u001b[38;5;124m'\u001b[39m\u001b[38;5;124mvNlongS\u001b[39m\u001b[38;5;124m'\u001b[39m: vNlongS,\n\u001b[0;32m     33\u001b[0m     \u001b[38;5;124m'\u001b[39m\u001b[38;5;124mabcb\u001b[39m\u001b[38;5;124m'\u001b[39m: abcb, \u001b[38;5;124m'\u001b[39m\u001b[38;5;124maba\u001b[39m\u001b[38;5;124m'\u001b[39m: aba, \u001b[38;5;124m'\u001b[39m\u001b[38;5;124mabcdb\u001b[39m\u001b[38;5;124m'\u001b[39m: abcdb, \u001b[38;5;124m'\u001b[39m\u001b[38;5;124mabca\u001b[39m\u001b[38;5;124m'\u001b[39m: abca, \u001b[38;5;124m'\u001b[39m\u001b[38;5;124mabb\u001b[39m\u001b[38;5;124m'\u001b[39m: abb, \u001b[38;5;124m'\u001b[39m\u001b[38;5;124maaaa\u001b[39m\u001b[38;5;124m'\u001b[39m: aaaa,\n\u001b[0;32m     34\u001b[0m     \u001b[38;5;124m'\u001b[39m\u001b[38;5;124mLmeanNW\u001b[39m\u001b[38;5;124m'\u001b[39m: LmeanNW, \u001b[38;5;124m'\u001b[39m\u001b[38;5;124mLmaxNW\u001b[39m\u001b[38;5;124m'\u001b[39m: LmaxNW, \u001b[38;5;124m'\u001b[39m\u001b[38;5;124mLminNW\u001b[39m\u001b[38;5;124m'\u001b[39m: LminNW, \u001b[38;5;124m'\u001b[39m\u001b[38;5;124mLmedNW\u001b[39m\u001b[38;5;124m'\u001b[39m: LmedNW, \u001b[38;5;124m'\u001b[39m\u001b[38;5;124mLq1NW\u001b[39m\u001b[38;5;124m'\u001b[39m: Lq1NW, \u001b[38;5;124m'\u001b[39m\u001b[38;5;124mLq3NW\u001b[39m\u001b[38;5;124m'\u001b[39m: Lq3NW, \u001b[38;5;124m'\u001b[39m\u001b[38;5;124mLvNW\u001b[39m\u001b[38;5;124m'\u001b[39m: LvNW,\n\u001b[0;32m     35\u001b[0m     \u001b[38;5;124m'\u001b[39m\u001b[38;5;124mLmeanNS\u001b[39m\u001b[38;5;124m'\u001b[39m: LmeanNS, \u001b[38;5;124m'\u001b[39m\u001b[38;5;124mLmaxNS\u001b[39m\u001b[38;5;124m'\u001b[39m: LmaxNS, \u001b[38;5;124m'\u001b[39m\u001b[38;5;124mLminNS\u001b[39m\u001b[38;5;124m'\u001b[39m: LminNS, \u001b[38;5;124m'\u001b[39m\u001b[38;5;124mLmedNS\u001b[39m\u001b[38;5;124m'\u001b[39m: LmedNS, \u001b[38;5;124m'\u001b[39m\u001b[38;5;124mLq1NS\u001b[39m\u001b[38;5;124m'\u001b[39m: Lq1NS, \u001b[38;5;124m'\u001b[39m\u001b[38;5;124mLq3NS\u001b[39m\u001b[38;5;124m'\u001b[39m: Lq3NS, \u001b[38;5;124m'\u001b[39m\u001b[38;5;124mLvNS\u001b[39m\u001b[38;5;124m'\u001b[39m: LvNS,\n\u001b[0;32m     36\u001b[0m     \u001b[38;5;124m'\u001b[39m\u001b[38;5;124mLmeanNshortS\u001b[39m\u001b[38;5;124m'\u001b[39m: LmeanNshortS, \u001b[38;5;124m'\u001b[39m\u001b[38;5;124mLmaxNshortS\u001b[39m\u001b[38;5;124m'\u001b[39m: LmaxNshortS, \u001b[38;5;124m'\u001b[39m\u001b[38;5;124mLminNshortS\u001b[39m\u001b[38;5;124m'\u001b[39m: LminNshortS, \u001b[38;5;124m'\u001b[39m\u001b[38;5;124mLmedNshortS\u001b[39m\u001b[38;5;124m'\u001b[39m: LmedNshortS, \u001b[38;5;124m'\u001b[39m\u001b[38;5;124mLq1NshortS\u001b[39m\u001b[38;5;124m'\u001b[39m: Lq1NshortS, \u001b[38;5;124m'\u001b[39m\u001b[38;5;124mLq3NshortS\u001b[39m\u001b[38;5;124m'\u001b[39m: Lq3NshortS, \u001b[38;5;124m'\u001b[39m\u001b[38;5;124mLvNshortS\u001b[39m\u001b[38;5;124m'\u001b[39m: LvNshortS,\n\u001b[0;32m     37\u001b[0m     \u001b[38;5;124m'\u001b[39m\u001b[38;5;124mLmeanNlongS\u001b[39m\u001b[38;5;124m'\u001b[39m: LmeanNlongS, \u001b[38;5;124m'\u001b[39m\u001b[38;5;124mLmaxNlongS\u001b[39m\u001b[38;5;124m'\u001b[39m: LmaxNlongS, \u001b[38;5;124m'\u001b[39m\u001b[38;5;124mLminNlongS\u001b[39m\u001b[38;5;124m'\u001b[39m: LminNlongS, \u001b[38;5;124m'\u001b[39m\u001b[38;5;124mLmedNlongS\u001b[39m\u001b[38;5;124m'\u001b[39m: LmedNlongS, \u001b[38;5;124m'\u001b[39m\u001b[38;5;124mLq1NlongS\u001b[39m\u001b[38;5;124m'\u001b[39m: Lq1NlongS, \u001b[38;5;124m'\u001b[39m\u001b[38;5;124mLq3NlongS\u001b[39m\u001b[38;5;124m'\u001b[39m: Lq3NlongS, \u001b[38;5;124m'\u001b[39m\u001b[38;5;124mLvNlongS\u001b[39m\u001b[38;5;124m'\u001b[39m: LvNlongS,\n\u001b[0;32m     38\u001b[0m     \u001b[38;5;124m'\u001b[39m\u001b[38;5;124mPROPN\u001b[39m\u001b[38;5;124m'\u001b[39m: PROPN, \u001b[38;5;124m'\u001b[39m\u001b[38;5;124mNOUN\u001b[39m\u001b[38;5;124m'\u001b[39m: NOUN, \u001b[38;5;124m'\u001b[39m\u001b[38;5;124mADJ\u001b[39m\u001b[38;5;124m'\u001b[39m: ADJ, \u001b[38;5;124m'\u001b[39m\u001b[38;5;124mNUM\u001b[39m\u001b[38;5;124m'\u001b[39m: NUM, \u001b[38;5;124m'\u001b[39m\u001b[38;5;124mPRON\u001b[39m\u001b[38;5;124m'\u001b[39m: PRON, \u001b[38;5;124m'\u001b[39m\u001b[38;5;124mVERB\u001b[39m\u001b[38;5;124m'\u001b[39m: VERB, \u001b[38;5;124m'\u001b[39m\u001b[38;5;124mADV\u001b[39m\u001b[38;5;124m'\u001b[39m: ADV, \u001b[38;5;124m'\u001b[39m\u001b[38;5;124mCONJ\u001b[39m\u001b[38;5;124m'\u001b[39m: CONJ, \u001b[38;5;124m'\u001b[39m\u001b[38;5;124mSCONJ\u001b[39m\u001b[38;5;124m'\u001b[39m: SCONJ, \u001b[38;5;124m'\u001b[39m\u001b[38;5;124mDET\u001b[39m\u001b[38;5;124m'\u001b[39m: DET, \u001b[38;5;124m'\u001b[39m\u001b[38;5;124mADP\u001b[39m\u001b[38;5;124m'\u001b[39m: ADP, \u001b[38;5;124m'\u001b[39m\u001b[38;5;124mINTJ\u001b[39m\u001b[38;5;124m'\u001b[39m: INTJ, \u001b[38;5;124m'\u001b[39m\u001b[38;5;124mPART\u001b[39m\u001b[38;5;124m'\u001b[39m: PART,\n\u001b[0;32m     39\u001b[0m     \u001b[38;5;124m'\u001b[39m\u001b[38;5;124mratePROPN_NOUN\u001b[39m\u001b[38;5;124m'\u001b[39m: ratePROPN_NOUN, \u001b[38;5;124m'\u001b[39m\u001b[38;5;124mrateADJ\u001b[39m\u001b[38;5;124m'\u001b[39m: rateADJ, \u001b[38;5;124m'\u001b[39m\u001b[38;5;124mrateNOUNs\u001b[39m\u001b[38;5;124m'\u001b[39m: rateNOUNs, \u001b[38;5;124m'\u001b[39m\u001b[38;5;124mrateVERB\u001b[39m\u001b[38;5;124m'\u001b[39m: rateVERB, \u001b[38;5;124m'\u001b[39m\u001b[38;5;124mrateADV\u001b[39m\u001b[38;5;124m'\u001b[39m: rateADV,\n\u001b[0;32m     40\u001b[0m     \u001b[38;5;124m'\u001b[39m\u001b[38;5;124mratePhonTlow\u001b[39m\u001b[38;5;124m'\u001b[39m: ratePhonTlow, \u001b[38;5;124m'\u001b[39m\u001b[38;5;124mratePhonThigh\u001b[39m\u001b[38;5;124m'\u001b[39m: ratePhonThigh, \u001b[38;5;124m'\u001b[39m\u001b[38;5;124mratePhonTmixed\u001b[39m\u001b[38;5;124m'\u001b[39m: ratePhonTmixed,\n\u001b[0;32m     41\u001b[0m     \u001b[38;5;124m'\u001b[39m\u001b[38;5;124mmeanLenWord\u001b[39m\u001b[38;5;124m'\u001b[39m: meanLenWord, \u001b[38;5;124m'\u001b[39m\u001b[38;5;124mmaxLenWord\u001b[39m\u001b[38;5;124m'\u001b[39m: maxLenWord, \u001b[38;5;124m'\u001b[39m\u001b[38;5;124mminLenWord\u001b[39m\u001b[38;5;124m'\u001b[39m: minLenWord, \u001b[38;5;124m'\u001b[39m\u001b[38;5;124mmedLenWord\u001b[39m\u001b[38;5;124m'\u001b[39m: medLenWord, \u001b[38;5;124m'\u001b[39m\u001b[38;5;124mq1LenWord\u001b[39m\u001b[38;5;124m'\u001b[39m: q1LenWord, \u001b[38;5;124m'\u001b[39m\u001b[38;5;124mq3LenWord\u001b[39m\u001b[38;5;124m'\u001b[39m: q3LenWord, \u001b[38;5;124m'\u001b[39m\u001b[38;5;124mvLenWord\u001b[39m\u001b[38;5;124m'\u001b[39m: vLenWord,\n\u001b[0;32m     42\u001b[0m     \u001b[38;5;124m'\u001b[39m\u001b[38;5;124mrateConsonant\u001b[39m\u001b[38;5;124m'\u001b[39m: rateConsonant, \u001b[38;5;124m'\u001b[39m\u001b[38;5;124mrateShortFFV\u001b[39m\u001b[38;5;124m'\u001b[39m: rateShortFFV, \u001b[38;5;124m'\u001b[39m\u001b[38;5;124mrateLongFFV\u001b[39m\u001b[38;5;124m'\u001b[39m: rateLongFFV, \u001b[38;5;124m'\u001b[39m\u001b[38;5;124mrateShortBFV\u001b[39m\u001b[38;5;124m'\u001b[39m: rateShortBFV, \u001b[38;5;124m'\u001b[39m\u001b[38;5;124mrateLongBFV\u001b[39m\u001b[38;5;124m'\u001b[39m: rateLongBFV,\n\u001b[0;32m     43\u001b[0m     \u001b[38;5;124m'\u001b[39m\u001b[38;5;124mPUNCT\u001b[39m\u001b[38;5;124m'\u001b[39m: PUNCT,\n\u001b[0;32m     44\u001b[0m     \u001b[38;5;124m'\u001b[39m\u001b[38;5;124mnumRhymePairs\u001b[39m\u001b[38;5;124m'\u001b[39m: numRhymePairs,\n\u001b[0;32m     45\u001b[0m     \u001b[38;5;124m'\u001b[39m\u001b[38;5;124mrateClearAll\u001b[39m\u001b[38;5;124m'\u001b[39m: rateClearAll,\n\u001b[0;32m     46\u001b[0m     \u001b[38;5;124m'\u001b[39m\u001b[38;5;124mmeanAll\u001b[39m\u001b[38;5;124m'\u001b[39m: meanAll, \u001b[38;5;124m'\u001b[39m\u001b[38;5;124mmaxAll\u001b[39m\u001b[38;5;124m'\u001b[39m: maxAll, \u001b[38;5;124m'\u001b[39m\u001b[38;5;124mminAll\u001b[39m\u001b[38;5;124m'\u001b[39m: minAll, \u001b[38;5;124m'\u001b[39m\u001b[38;5;124mmedAll\u001b[39m\u001b[38;5;124m'\u001b[39m: medAll, \u001b[38;5;124m'\u001b[39m\u001b[38;5;124mq1All\u001b[39m\u001b[38;5;124m'\u001b[39m: q1All, \u001b[38;5;124m'\u001b[39m\u001b[38;5;124mq3All\u001b[39m\u001b[38;5;124m'\u001b[39m: q3All, \u001b[38;5;124m'\u001b[39m\u001b[38;5;124mvAll\u001b[39m\u001b[38;5;124m'\u001b[39m: vAll\n\u001b[0;32m     47\u001b[0m }\n\u001b[0;32m     49\u001b[0m \u001b[38;5;66;03m#reszlet=df.loc[:, 'PROPN':'PUNCT']\u001b[39;00m\n\u001b[0;32m     50\u001b[0m \u001b[38;5;66;03m#reszlet\u001b[39;00m\n\u001b[0;32m     51\u001b[0m df\n",
      "\u001b[1;31mNameError\u001b[0m: name 'Title' is not defined"
     ]
    }
   ],
   "source": [
    "column_names = ['Author', 'Title', 'numWordsTitle', 'numStanza', 'numLine', 'numWord', 'numSyll', 'rateShortSyll',\n",
    "                'meanNL', 'maxNL', 'minNL', 'medNL', 'q1NL', 'q3NL', 'vNL',\n",
    "                'meanNW', 'maxNW', 'minNW', 'medNW', 'q1NW', 'q3NW', 'vNW',\n",
    "                'meanNS', 'maxNS', 'minNS', 'medNS', 'q1NS', 'q3NS', 'vNS',\n",
    "                'meanNshortS', 'maxNshortS', 'minNshortS', 'medNshortS', 'q1NshortS', 'q3NshortS', 'vNshortS',\n",
    "                'meanNlongS', 'maxNlongS', 'minNlongS', 'medNlongS', 'q1NlongS', 'q3NlongS', 'vNlongS',\n",
    "                'abcb', 'aba', 'abcdb', 'abca', 'abb', 'aaaa',\n",
    "                'LmeanNW', 'LmaxNW', 'LminNW', 'LmedNW', 'Lq1NW', 'Lq3NW', 'LvNW',\n",
    "                'LmeanNS', 'LmaxNS', 'LminNS', 'LmedNS', 'Lq1NS', 'Lq3NS', 'LvNS',\n",
    "                'LmeanNshortS', 'LmaxNshortS', 'LminNshortS', 'LmedNshortS', 'Lq1NshortS', 'Lq3NshortS', 'LvNshortS',\n",
    "                'LmeanNlongS', 'LmaxNlongS', 'LminNlongS', 'LmedNlongS', 'Lq1NlongS', 'Lq3NlongS', 'LvNlongS',\n",
    "                'PROPN', 'NOUN', 'ADJ', 'NUM', 'PRON', 'VERB', 'ADV', 'CONJ', 'SCONJ', 'DET', 'ADP', 'INTJ', 'PART',\n",
    "                'ratePROPN_NOUN', 'rateADJ', 'rateNOUNs', 'rateVERB', 'rateADV',\n",
    "                'ratePhonTlow', 'ratePhonThigh', 'ratePhonTmixed',\n",
    "                'meanLenWord', 'maxLenWord', 'minLenWord', 'medLenWord', 'q1LenWord', 'q3LenWord', 'vLenWord',\n",
    "                'rateConsonant', 'rateShortFFV', 'rateLongFFV', 'rateShortBFV', 'rateLongBFV',\n",
    "                'PUNCT',\n",
    "                'numRhymePairs',\n",
    "                'rateClearAll',\n",
    "                'meanAll', 'maxAll', 'minAll', 'medAll', 'q1All', 'q3All', 'vAll'\n",
    "               ]\n",
    "\n",
    "df = pd.DataFrame(columns=column_names)\n",
    "\n",
    "df.loc[0, column_names] = {\n",
    "    'Author': Author,\n",
    "    'Title': Title, 'numWordsTitle': numWordsTitle, 'numStanza': numStanza, 'numLine': numLine, 'numWord': numWord, 'numSyll': numSyll, 'rateShortSyll': rateShortSyll,\n",
    "    'meanNL': meanNL, 'maxNL': maxNL, 'minNL': minNL, 'medNL': medNL, 'q1NL': q1NL, 'q3NL': q3NL, 'vNL': vNL,\n",
    "    'meanNW': meanNW, 'maxNW': maxNW, 'minNW': minNW, 'medNW': medNW, 'q1NW': q1NW, 'q3NW': q3NW, 'vNW': vNW,\n",
    "    'meanNS': meanNS, 'maxNS': maxNS, 'minNS': minNS, 'medNS': medNS, 'q1NS': q1NS, 'q3NS': q3NS, 'vNS': vNS,\n",
    "    'meanNshortS': meanNshortS, 'maxNshortS': maxNshortS, 'minNshortS': minNshortS, 'medNshortS': medNshortS, 'q1NshortS': q1NshortS, 'q3NshortS': q3NshortS, 'vNshortS': vNshortS,\n",
    "    'meanNlongS': meanNlongS, 'maxNlongS': maxNlongS, 'minNlongS': minNlongS, 'medNlongS': medNlongS, 'q1NlongS': q1NlongS, 'q3NlongS': q3NlongS, 'vNlongS': vNlongS,\n",
    "    'abcb': abcb, 'aba': aba, 'abcdb': abcdb, 'abca': abca, 'abb': abb, 'aaaa': aaaa,\n",
    "    'LmeanNW': LmeanNW, 'LmaxNW': LmaxNW, 'LminNW': LminNW, 'LmedNW': LmedNW, 'Lq1NW': Lq1NW, 'Lq3NW': Lq3NW, 'LvNW': LvNW,\n",
    "    'LmeanNS': LmeanNS, 'LmaxNS': LmaxNS, 'LminNS': LminNS, 'LmedNS': LmedNS, 'Lq1NS': Lq1NS, 'Lq3NS': Lq3NS, 'LvNS': LvNS,\n",
    "    'LmeanNshortS': LmeanNshortS, 'LmaxNshortS': LmaxNshortS, 'LminNshortS': LminNshortS, 'LmedNshortS': LmedNshortS, 'Lq1NshortS': Lq1NshortS, 'Lq3NshortS': Lq3NshortS, 'LvNshortS': LvNshortS,\n",
    "    'LmeanNlongS': LmeanNlongS, 'LmaxNlongS': LmaxNlongS, 'LminNlongS': LminNlongS, 'LmedNlongS': LmedNlongS, 'Lq1NlongS': Lq1NlongS, 'Lq3NlongS': Lq3NlongS, 'LvNlongS': LvNlongS,\n",
    "    'PROPN': PROPN, 'NOUN': NOUN, 'ADJ': ADJ, 'NUM': NUM, 'PRON': PRON, 'VERB': VERB, 'ADV': ADV, 'CONJ': CONJ, 'SCONJ': SCONJ, 'DET': DET, 'ADP': ADP, 'INTJ': INTJ, 'PART': PART,\n",
    "    'ratePROPN_NOUN': ratePROPN_NOUN, 'rateADJ': rateADJ, 'rateNOUNs': rateNOUNs, 'rateVERB': rateVERB, 'rateADV': rateADV,\n",
    "    'ratePhonTlow': ratePhonTlow, 'ratePhonThigh': ratePhonThigh, 'ratePhonTmixed': ratePhonTmixed,\n",
    "    'meanLenWord': meanLenWord, 'maxLenWord': maxLenWord, 'minLenWord': minLenWord, 'medLenWord': medLenWord, 'q1LenWord': q1LenWord, 'q3LenWord': q3LenWord, 'vLenWord': vLenWord,\n",
    "    'rateConsonant': rateConsonant, 'rateShortFFV': rateShortFFV, 'rateLongFFV': rateLongFFV, 'rateShortBFV': rateShortBFV, 'rateLongBFV': rateLongBFV,\n",
    "    'PUNCT': PUNCT,\n",
    "    'numRhymePairs': numRhymePairs,\n",
    "    'rateClearAll': rateClearAll,\n",
    "    'meanAll': meanAll, 'maxAll': maxAll, 'minAll': minAll, 'medAll': medAll, 'q1All': q1All, 'q3All': q3All, 'vAll': vAll\n",
    "}\n",
    "\n",
    "#reszlet=df.loc[:, 'PROPN':'PUNCT']\n",
    "#reszlet\n",
    "df"
   ]
  }
 ],
 "metadata": {
  "kernelspec": {
   "display_name": "Python 3 (ipykernel)",
   "language": "python",
   "name": "python3"
  },
  "language_info": {
   "codemirror_mode": {
    "name": "ipython",
    "version": 3
   },
   "file_extension": ".py",
   "mimetype": "text/x-python",
   "name": "python",
   "nbconvert_exporter": "python",
   "pygments_lexer": "ipython3",
   "version": "3.10.10"
  }
 },
 "nbformat": 4,
 "nbformat_minor": 5
}
